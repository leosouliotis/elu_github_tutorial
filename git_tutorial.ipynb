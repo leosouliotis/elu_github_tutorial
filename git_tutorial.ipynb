{
 "cells": [
  {
   "cell_type": "markdown",
   "metadata": {},
   "source": [
    "# A quick glimpse of GitHub\n",
    "## A gentle intorduction\n",
    "\n",
    "In this tutorial, we will talk about:\n",
    "\n",
    "- Version control jargon (including of course, *version control*...)\n",
    "- What is git and why it's different to github\n",
    "- Basic git fucntions\n",
    "- How to use GitHub to store our code\n",
    "- How to use GitHub for project collaboration "
   ]
  },
  {
   "cell_type": "markdown",
   "metadata": {},
   "source": [
    "## 1. Version control jargon\n",
    "\n",
    "- ***Version control***: A system responsible for managing changes to computer programs, dcuments, source code and other sources of information. An effective way to maintain multiple version of the same software.\n",
    "\n",
    "\n",
    "- ***Repository***: *Repo* for short is a storage location for softwaee packages. Ofter a table of contents is also stored, along with different kind of metadata.\n",
    "\n",
    "\n",
    "- ***Branching***: The process of duplication of an object under version control (such as source code file or a whole directory). Each object can thereafter be modified separately and in parallel so that the objects become different. In this context the objects are called *branches*. The users of the version control system can branch any branch."
   ]
  },
  {
   "cell_type": "markdown",
   "metadata": {},
   "source": [
    "## 2. What is git? GitHub vs git\n",
    "\n",
    "### Git\n",
    "\n",
    "\n",
    "Git is an open-source software for tracking chnges in any set of files. It was originally authored by Linus Tovalds (they guy behind Linux) to support coordination of work among programmers when developing source code. It can support thousand of paraller workflows (also known as *branches*). \n",
    "\n",
    "You can find intructions on how to install git on each platform [here](https://git-scm.com/book/en/v2/Getting-Started-Installing-Git) \n",
    "\n",
    "\n",
    "#### The three states of the files\n",
    "Pay attention now — here is the main thing to remember about Git if you want the rest of your learning process to go smoothly. Git has three main states that your files can reside in: **modified**, **staged**, and **committed** :\n",
    "\n",
    "- **Modified** means that you have changed the file but have not committed it to your database yet.\n",
    "\n",
    "- **Staged** means that you have marked a modified file in its current version to go into your next commit snapshot.\n",
    "\n",
    "- **Committed** means that the data is safely stored in your local database.\n",
    "\n",
    "\n",
    "The basic Git workflow goes something like this:\n",
    "\n",
    "- You modify files in your working tree.\n",
    "\n",
    "- You selectively stage just those changes you want to be part of your next commit, which adds only those changes to the staging area.\n",
    "\n",
    "- You do a commit, which takes the files as they are in the staging area and stores that snapshot permanently to your Git directory.\n",
    "\n",
    "TODO: Add picture of git states\n",
    "\n",
    "[Reference](https://git-scm.com/book/en/v2/Getting-Started-What-is-Git%3F)\n",
    "\n",
    "\n",
    "### GitHub\n",
    "\n",
    "GitHub is a provider of interet hosting for software development and version control using git. It offer addtional features such as bug tracking, feature requests, autonated tests etc. \n",
    "\n",
    "#### GitHub naming conventions\n",
    "By convention, the main branch is called *main* (surprise, surprise...)m formerly known as *master*. It must be an always-stable, bug-free version of the software. The main development software should be called *develop*. Any other branches should be names as *type_of_addition/name_of_the_branch*, e.g. *feature/median_calculation*, *app/logistic_regression*"
   ]
  },
  {
   "cell_type": "markdown",
   "metadata": {},
   "source": [
    "## 3. Basic git fucntion"
   ]
  },
  {
   "cell_type": "markdown",
   "metadata": {},
   "source": [
    "- ### *Clone*: (Legaly) copying repositories from GitHub\n",
    "The *clone* command allows us to download whole repositories from an online hosting platform (for example, GitHub, BitBucket, ...). This issues a clean copy of the latest committed version of that repository.<br><br>\n",
    "\n",
    "- ### *Init*: The one to create them all\n",
    "The *init* command initializes a new version control in a folder. It is used to \"mark\" a newly created repo as ready to start *git* procedures. It also creates a gidden folder called *.git* that stores all the informaiton needed. <br><br>\n",
    "\n",
    "- ### *Add*: The ssential first step to commit\n",
    "The *add* command puts the files you specify in the stagged area, which means that the current version of this file is ready to commit. <br><br>\n",
    "\n",
    "- ### *Commit*: It's the final countdown...\n",
    "The *commit* function puts all the chnages you made in the file (a.k.a the stagge dversion of the file) on the local git database.\n",
    "\n",
    "- ### *Status*: The bridge of the ship\n",
    "*Status* shows you the current state of your repository, e.g. what changes you have made, if you have changed files not stagged, which branch you are working etc <br><br>\n",
    "\n",
    "- ### *Branch*: Collaboration at its best\n",
    "The *branch* command lets you create a new branch by copying the *main* branch.\n"
   ]
  },
  {
   "cell_type": "markdown",
   "metadata": {},
   "source": [
    "### "
   ]
  },
  {
   "cell_type": "code",
   "execution_count": null,
   "metadata": {},
   "outputs": [],
   "source": []
  },
  {
   "cell_type": "code",
   "execution_count": null,
   "metadata": {},
   "outputs": [],
   "source": []
  }
 ],
 "metadata": {
  "kernelspec": {
   "display_name": "Python 3 (ipykernel)",
   "language": "python",
   "name": "python3"
  },
  "language_info": {
   "codemirror_mode": {
    "name": "ipython",
    "version": 3
   },
   "file_extension": ".py",
   "mimetype": "text/x-python",
   "name": "python",
   "nbconvert_exporter": "python",
   "pygments_lexer": "ipython3",
   "version": "3.9.10+"
  }
 },
 "nbformat": 4,
 "nbformat_minor": 2
}